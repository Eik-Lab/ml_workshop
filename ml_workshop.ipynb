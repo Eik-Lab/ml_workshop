{
 "cells": [
  {
   "cell_type": "markdown",
   "metadata": {
    "id": "NE6dMOfWq9BA"
   },
   "source": [
    "# Maskin Læring: Klassifisering av dyr"
   ]
  },
  {
   "cell_type": "markdown",
   "metadata": {
    "id": "xMCo8oDYrBhV"
   },
   "source": [
    "## Trening av vårt første CNN!\n",
    "![l](https://www.managers.org.uk/wp-content/uploads/2020/03/BrainTraining.jpg)  \n",
    "I denne notebooken kommer vi til å gjøre et par ting: \n",
    "1. Skrive inn studentnummeret vårt\n",
    "2. Generere et nevralt nettverk(tenk en hjerne) med dette studentnummeret. \n",
    "3. Trene dette nettverket"
   ]
  },
  {
   "cell_type": "markdown",
   "metadata": {
    "id": "RrZKFkZksOKX"
   },
   "source": [
    "### Vi starter med å importere biblioteker og funksjoner"
   ]
  },
  {
   "cell_type": "code",
   "execution_count": 2,
   "metadata": {
    "execution": {
     "iopub.execute_input": "2022-09-12T09:16:32.746496Z",
     "iopub.status.busy": "2022-09-12T09:16:32.745369Z",
     "iopub.status.idle": "2022-09-12T09:16:43.864383Z",
     "shell.execute_reply": "2022-09-12T09:16:43.863051Z",
     "shell.execute_reply.started": "2022-09-12T09:16:32.746452Z"
    },
    "id": "wNKc_6gwpl4j",
    "outputId": "0f3c2fd0-f4fd-4eb6-d1fb-9e953fb361d3"
   },
   "outputs": [],
   "source": [
    "import numpy as np\n",
    "import pandas as pd\n",
    "import os\n",
    "\n",
    "import matplotlib.pyplot as plt\n",
    "import tensorflow as tf\n",
    "\n",
    "from tensorflow.keras.utils import to_categorical\n",
    "from tensorflow.keras.preprocessing.image import load_img, img_to_array\n",
    "from tensorflow.python.keras.preprocessing.image import ImageDataGenerator\n",
    "\n",
    "from sklearn.metrics import classification_report, log_loss, accuracy_score\n",
    "from sklearn.model_selection import train_test_split\n",
    "!pip3 install tqdm\n",
    "from tqdm.auto import tqdm"
   ]
  },
  {
   "cell_type": "markdown",
   "metadata": {},
   "source": [
    "### La oss nå gå inn på kaggle, hente ut api nøkkelen  vår, og legge den inn under.\n",
    "### Dette gjør sånn at vi kan bruke datasettet som finnes på kaggle."
   ]
  },
  {
   "cell_type": "code",
   "execution_count": 2,
   "metadata": {
    "execution": {
     "iopub.execute_input": "2022-09-12T09:21:04.868889Z",
     "iopub.status.busy": "2022-09-12T09:21:04.868379Z",
     "iopub.status.idle": "2022-09-12T09:21:27.833592Z",
     "shell.execute_reply": "2022-09-12T09:21:27.832531Z",
     "shell.execute_reply.started": "2022-09-12T09:21:04.868844Z"
    },
    "id": "wNKc_6gwpl4j",
    "outputId": "0f3c2fd0-f4fd-4eb6-d1fb-9e953fb361d3"
   },
   "outputs": [
    {
     "name": "stdout",
     "output_type": "stream",
     "text": [
      "Skriv inn bruker og api-nøkkel!\n"
     ]
    }
   ],
   "source": [
    "kaggle_user= \"\"\n",
    "kaggle_api = \"\"\n",
    "if kaggle_user == \"\" or kaggle_api == \"\":\n",
    "    print(\"Skriv inn bruker og api-nøkkel!\")\n",
    "else:\n",
    "    os.environ[\"KAGGLE_USERNAME\"] = kaggle_user\n",
    "    os.environ[\"KAGGLE_KEY\"] = kaggle_api\n",
    "    !pip3 install kaggle\n",
    "    !kaggle datasets download -d alessiocorrado99/animals10"
   ]
  },
  {
   "cell_type": "markdown",
   "metadata": {},
   "source": [
    "### Etter å ha lastet ned datasettet kan vi unzippe filen"
   ]
  },
  {
   "cell_type": "code",
   "execution_count": 4,
   "metadata": {
    "execution": {
     "iopub.execute_input": "2022-09-12T09:21:49.681148Z",
     "iopub.status.busy": "2022-09-12T09:21:49.680344Z",
     "iopub.status.idle": "2022-09-12T09:22:00.761188Z",
     "shell.execute_reply": "2022-09-12T09:22:00.757827Z",
     "shell.execute_reply.started": "2022-09-12T09:21:49.681095Z"
    }
   },
   "outputs": [],
   "source": [
    "!unzip -q animals10.zip\n",
    "print(\"Complete!\")"
   ]
  },
  {
   "cell_type": "markdown",
   "metadata": {},
   "source": [
    "### Vi bruker studentnummeret som en random seed for å velge aktiveringsfunksjon og learnrate"
   ]
  },
  {
   "cell_type": "code",
   "execution_count": 1,
   "metadata": {
    "execution": {
     "iopub.execute_input": "2022-09-12T09:34:47.004553Z",
     "iopub.status.busy": "2022-09-12T09:34:47.002998Z",
     "iopub.status.idle": "2022-09-12T09:34:51.350006Z",
     "shell.execute_reply": "2022-09-12T09:34:51.348352Z",
     "shell.execute_reply.started": "2022-09-12T09:34:47.004433Z"
    }
   },
   "outputs": [
    {
     "ename": "KeyboardInterrupt",
     "evalue": "Interrupted by user",
     "output_type": "error",
     "traceback": [
      "\u001b[1;31m---------------------------------------------------------------------------\u001b[0m",
      "\u001b[1;31mKeyboardInterrupt\u001b[0m                         Traceback (most recent call last)",
      "\u001b[1;32m<ipython-input-1-8b78590e70fa>\u001b[0m in \u001b[0;36m<module>\u001b[1;34m\u001b[0m\n\u001b[0;32m      1\u001b[0m \u001b[1;32mimport\u001b[0m \u001b[0mrandom\u001b[0m\u001b[1;33m\u001b[0m\u001b[1;33m\u001b[0m\u001b[0m\n\u001b[1;32m----> 2\u001b[1;33m \u001b[0mStudent_nr\u001b[0m \u001b[1;33m=\u001b[0m \u001b[0minput\u001b[0m\u001b[1;33m(\u001b[0m\u001b[1;34m\"Hva er student nummeret ditt?\"\u001b[0m\u001b[1;33m)\u001b[0m\u001b[1;33m\u001b[0m\u001b[1;33m\u001b[0m\u001b[0m\n\u001b[0m\u001b[0;32m      3\u001b[0m \u001b[0mimg_size\u001b[0m \u001b[1;33m=\u001b[0m \u001b[1;36m100\u001b[0m\u001b[1;33m\u001b[0m\u001b[1;33m\u001b[0m\u001b[0m\n\u001b[0;32m      4\u001b[0m \u001b[0mrandom\u001b[0m\u001b[1;33m.\u001b[0m\u001b[0mseed\u001b[0m\u001b[1;33m(\u001b[0m\u001b[0mStudent_nr\u001b[0m\u001b[1;33m)\u001b[0m\u001b[1;33m\u001b[0m\u001b[1;33m\u001b[0m\u001b[0m\n\u001b[0;32m      5\u001b[0m \u001b[1;33m\u001b[0m\u001b[0m\n",
      "\u001b[1;32m~\\miniconda3\\envs\\inf200\\lib\\site-packages\\ipykernel\\kernelbase.py\u001b[0m in \u001b[0;36mraw_input\u001b[1;34m(self, prompt)\u001b[0m\n\u001b[0;32m    861\u001b[0m             \u001b[0mself\u001b[0m\u001b[1;33m.\u001b[0m\u001b[0m_parent_ident\u001b[0m\u001b[1;33m,\u001b[0m\u001b[1;33m\u001b[0m\u001b[1;33m\u001b[0m\u001b[0m\n\u001b[0;32m    862\u001b[0m             \u001b[0mself\u001b[0m\u001b[1;33m.\u001b[0m\u001b[0m_parent_header\u001b[0m\u001b[1;33m,\u001b[0m\u001b[1;33m\u001b[0m\u001b[1;33m\u001b[0m\u001b[0m\n\u001b[1;32m--> 863\u001b[1;33m             \u001b[0mpassword\u001b[0m\u001b[1;33m=\u001b[0m\u001b[1;32mFalse\u001b[0m\u001b[1;33m,\u001b[0m\u001b[1;33m\u001b[0m\u001b[1;33m\u001b[0m\u001b[0m\n\u001b[0m\u001b[0;32m    864\u001b[0m         )\n\u001b[0;32m    865\u001b[0m \u001b[1;33m\u001b[0m\u001b[0m\n",
      "\u001b[1;32m~\\miniconda3\\envs\\inf200\\lib\\site-packages\\ipykernel\\kernelbase.py\u001b[0m in \u001b[0;36m_input_request\u001b[1;34m(self, prompt, ident, parent, password)\u001b[0m\n\u001b[0;32m    902\u001b[0m             \u001b[1;32mexcept\u001b[0m \u001b[0mKeyboardInterrupt\u001b[0m\u001b[1;33m:\u001b[0m\u001b[1;33m\u001b[0m\u001b[1;33m\u001b[0m\u001b[0m\n\u001b[0;32m    903\u001b[0m                 \u001b[1;31m# re-raise KeyboardInterrupt, to truncate traceback\u001b[0m\u001b[1;33m\u001b[0m\u001b[1;33m\u001b[0m\u001b[1;33m\u001b[0m\u001b[0m\n\u001b[1;32m--> 904\u001b[1;33m                 \u001b[1;32mraise\u001b[0m \u001b[0mKeyboardInterrupt\u001b[0m\u001b[1;33m(\u001b[0m\u001b[1;34m\"Interrupted by user\"\u001b[0m\u001b[1;33m)\u001b[0m \u001b[1;32mfrom\u001b[0m \u001b[1;32mNone\u001b[0m\u001b[1;33m\u001b[0m\u001b[1;33m\u001b[0m\u001b[0m\n\u001b[0m\u001b[0;32m    905\u001b[0m             \u001b[1;32mexcept\u001b[0m \u001b[0mException\u001b[0m \u001b[1;32mas\u001b[0m \u001b[0me\u001b[0m\u001b[1;33m:\u001b[0m\u001b[1;33m\u001b[0m\u001b[1;33m\u001b[0m\u001b[0m\n\u001b[0;32m    906\u001b[0m                 \u001b[0mself\u001b[0m\u001b[1;33m.\u001b[0m\u001b[0mlog\u001b[0m\u001b[1;33m.\u001b[0m\u001b[0mwarning\u001b[0m\u001b[1;33m(\u001b[0m\u001b[1;34m\"Invalid Message:\"\u001b[0m\u001b[1;33m,\u001b[0m \u001b[0mexc_info\u001b[0m\u001b[1;33m=\u001b[0m\u001b[1;32mTrue\u001b[0m\u001b[1;33m)\u001b[0m\u001b[1;33m\u001b[0m\u001b[1;33m\u001b[0m\u001b[0m\n",
      "\u001b[1;31mKeyboardInterrupt\u001b[0m: Interrupted by user"
     ]
    }
   ],
   "source": [
    "import random\n",
    "Student_nr = input(\"Hva er student nummeret ditt?\")\n",
    "img_size = 100\n",
    "random.seed(Student_nr)\n",
    "\n",
    "activation_layers = [\n",
    "            \"relu\",\n",
    "            \"selu\",\n",
    "            \"elu\", \n",
    "            \"leaky_relu\"\n",
    "]\n",
    "n = random.randint(1, len(activation_layers))\n",
    "layer = activation_layers[n]\n",
    "lr = random.uniform(1e-4, 1e-1)\n",
    "print(f\"Your learning rate is: {lr}\")\n",
    "print(f\"Your activation layer is: {layer}\")"
   ]
  },
  {
   "cell_type": "markdown",
   "metadata": {},
   "source": [
    "## Vi laster inn dataene til et sett for trening, validering og testing"
   ]
  },
  {
   "cell_type": "code",
   "execution_count": 6,
   "metadata": {
    "execution": {
     "iopub.execute_input": "2022-09-12T09:34:59.767458Z",
     "iopub.status.busy": "2022-09-12T09:34:59.767047Z",
     "iopub.status.idle": "2022-09-12T09:36:10.559876Z",
     "shell.execute_reply": "2022-09-12T09:36:10.558415Z",
     "shell.execute_reply.started": "2022-09-12T09:34:59.767425Z"
    }
   },
   "outputs": [],
   "source": [
    "base_dir = './raw-img'\n",
    "LABELS = os.listdir(base_dir)\n",
    "LABELS.sort()\n",
    "translate = {\"cane\": \"dog\", \"cavallo\": \"horse\", \"elefante\": \"elephant\",\n",
    "                 \"farfalla\": \"butterfly\", \"gallina\": \"chicken\", \"gatto\": \"cat\",\n",
    "                 \"mucca\": \"cow\", \"pecora\": \"sheep\", \"scoiattolo\": \"squirrel\",\n",
    "                 \"dog\": \"cane\", \"cavallo\": \"horse\", \"elephant\" : \"elefante\", \n",
    "                 \"butterfly\": \"farfalla\", \"chicken\": \"gallina\", \"cat\": \"gatto\",\n",
    "                 \"cow\": \"mucca\", \"spider\": \"ragno\", \"squirrel\": \"scoiattolo\"}\n",
    "LABELS_english = list(translate.values())\n",
    "base_dir + '/' + LABELS[0]\n",
    "dataset=[]\n",
    "testset=[]\n",
    "count=0\n",
    "\n",
    "for label in tqdm(LABELS):\n",
    "    i=0\n",
    "#     path = base_dir + '/' + label\n",
    "    path = os.path.join(base_dir, label)\n",
    "#     print(path)\n",
    "    for img in os.listdir(path):\n",
    "#         print(img)\n",
    "        image=load_img(os.path.join(path, img),\n",
    "                       grayscale=False, color_mode='rgb', \n",
    "                       target_size=(img_size,img_size))\n",
    "        image=img_to_array(image)\n",
    "        image=image/255.0\n",
    "        if i<1000:\n",
    "            dataset.append([image,count])\n",
    "            i+=1\n",
    "        else:\n",
    "            testset.append([image,count])\n",
    "    count=count+1\n",
    "\n",
    "X,y =zip(*dataset)\n",
    "test, test_labels=zip(*testset)\n",
    "y = to_categorical(y)\n",
    "y=np.array(y)\n",
    "X=np.array(X)\n",
    "print(\"Train Shape:{}\\nTrain Labels shape: {}\".format(X.shape,y.shape))\n",
    "X_train, X_valid, y_train, y_valid = train_test_split(X, y, test_size=0.2, random_state=99)\n",
    "\n",
    "datagen = ImageDataGenerator(\n",
    "    horizontal_flip=True,\n",
    "    vertical_flip=True,\n",
    "    rotation_range=20,\n",
    "    zoom_range=0.2,\n",
    "    width_shift_range=0.2,\n",
    "    height_shift_range=0.2,\n",
    "    shear_range=0.1,\n",
    "    fill_mode=\"nearest\"\n",
    ")"
   ]
  },
  {
   "cell_type": "markdown",
   "metadata": {},
   "source": [
    "### Definerer funksjon for å predikere et bilde. Tar inn et bilde og henter ut dyret med høyest sannsynlighet"
   ]
  },
  {
   "cell_type": "code",
   "execution_count": 7,
   "metadata": {
    "execution": {
     "iopub.execute_input": "2022-09-12T09:36:20.177729Z",
     "iopub.status.busy": "2022-09-12T09:36:20.177255Z",
     "iopub.status.idle": "2022-09-12T09:36:20.186280Z",
     "shell.execute_reply": "2022-09-12T09:36:20.185010Z",
     "shell.execute_reply.started": "2022-09-12T09:36:20.177690Z"
    }
   },
   "outputs": [],
   "source": [
    "def predict_image(image):\n",
    "    image=img_to_array(image)/255 \n",
    "    prediction_image=np.array(image)\n",
    "    prediction_image= np.expand_dims(image, axis=0)\n",
    "    \n",
    "    pred = model.predict(prediction_image)\n",
    "    value = np.argmax(pred)\n",
    "    return f\"Pred: {LABELS_english[value]}\""
   ]
  },
  {
   "cell_type": "markdown",
   "metadata": {},
   "source": [
    "### Lager den utrente modellen "
   ]
  },
  {
   "cell_type": "code",
   "execution_count": 8,
   "metadata": {
    "execution": {
     "iopub.execute_input": "2022-09-12T09:36:28.810036Z",
     "iopub.status.busy": "2022-09-12T09:36:28.809618Z",
     "iopub.status.idle": "2022-09-12T09:36:29.224127Z",
     "shell.execute_reply": "2022-09-12T09:36:29.222144Z",
     "shell.execute_reply.started": "2022-09-12T09:36:28.809996Z"
    },
    "id": "1LXIXuD8Pmph",
    "outputId": "000566c1-65c7-41c1-db1d-6b47a0501944",
    "scrolled": true,
    "tags": []
   },
   "outputs": [],
   "source": [
    "model = tf.keras.models.Sequential()\n",
    "\n",
    "model.add(tf.keras.layers.Conv2D(16, (3, 3), activation=layer, input_shape=(img_size, img_size, 3), padding= \"valid\"))\n",
    "model.add(tf.keras.layers.MaxPooling2D(3))\n",
    "\n",
    "model.add(tf.keras.layers.Conv2D(32, (3, 3), activation=layer, padding= \"valid\"))\n",
    "model.add(tf.keras.layers.MaxPooling2D(2))\n",
    "\n",
    "model.add(tf.keras.layers.BatchNormalization())\n",
    "\n",
    "model.add(tf.keras.layers.Conv2D(64, (3, 3), activation=layer, padding= \"valid\"))\n",
    "model.add(tf.keras.layers.MaxPooling2D(1))\n",
    "\n",
    "\n",
    "model.add(tf.keras.layers.Conv2D(64, (3, 3), activation=layer, padding= \"valid\"))\n",
    "model.add(tf.keras.layers.MaxPooling2D(1))\n",
    "\n",
    "model.add(tf.keras.layers.Flatten())\n",
    "\n",
    "model.add(tf.keras.layers.Dense(64, activation=layer))\n",
    "model.add(tf.keras.layers.Dense(32, activation=layer))\n",
    "model.add(tf.keras.layers.BatchNormalization())\n",
    "model.add(tf.keras.layers.Dropout(0.2))\n",
    "\n",
    "\n",
    "\n",
    "model.add(tf.keras.layers.Dense(10, activation='softmax'))\n",
    "model.summary()\n",
    "\n",
    "model.compile(loss='categorical_crossentropy',\n",
    "             optimizer=tf.keras.optimizers.Adam(learning_rate = lr),\n",
    "             metrics=['acc'])"
   ]
  },
  {
   "cell_type": "markdown",
   "metadata": {
    "id": "dwtksNboPmpi"
   },
   "source": [
    "### I cellen ovenfor lager vi modellen. Vi prøver å gjette hvilket dyr det er på bildene med denne ulærte modellen"
   ]
  },
  {
   "cell_type": "code",
   "execution_count": 10,
   "metadata": {
    "execution": {
     "iopub.execute_input": "2022-09-12T09:37:34.503256Z",
     "iopub.status.busy": "2022-09-12T09:37:34.502807Z",
     "iopub.status.idle": "2022-09-12T09:37:36.576746Z",
     "shell.execute_reply": "2022-09-12T09:37:36.575322Z",
     "shell.execute_reply.started": "2022-09-12T09:37:34.503217Z"
    }
   },
   "outputs": [],
   "source": [
    "image_dir = \"raw-img\"\n",
    "sub_dirs = os.listdir(image_dir)\n",
    "image_paths = []\n",
    "complete_paths = []\n",
    "for sub_dir in sub_dirs:\n",
    "    image_path = os.listdir(f\"{image_dir}/{sub_dir}\")[0]\n",
    "    complete_paths.append(f\"{image_dir}/{sub_dir}/{image_path}\")\n",
    "\n",
    "plt.figure(figsize = (16,16))\n",
    "for i in range(0,10):\n",
    "    image=load_img(complete_paths[i],target_size=(img_size,img_size))\n",
    "    prediction = predict_image(image)\n",
    "    plt.subplot(5,5,i+1)    # the number of images in the grid is 5*5 (25)\n",
    "    plt.title(prediction)\n",
    "    plt.imshow(image)\n",
    "plt.axis(\"off\")\n",
    "plt.tight_layout()\n",
    "plt.show()"
   ]
  },
  {
   "cell_type": "markdown",
   "metadata": {},
   "source": [
    "### La oss nå trene modellen på datasettet for å øke nøyaktigheten"
   ]
  },
  {
   "cell_type": "code",
   "execution_count": null,
   "metadata": {
    "id": "1LXIXuD8Pmph",
    "outputId": "000566c1-65c7-41c1-db1d-6b47a0501944",
    "scrolled": true,
    "tags": []
   },
   "outputs": [],
   "source": [
    "history = model.fit(\n",
    "     datagen.flow(X_train, y_train, batch_size=256), \n",
    "    validation_data = (X_valid, y_valid),\n",
    "    epochs=25\n",
    ")"
   ]
  },
  {
   "cell_type": "markdown",
   "metadata": {},
   "source": [
    "### La oss se hvor bra modellen vår gjetter"
   ]
  },
  {
   "cell_type": "code",
   "execution_count": null,
   "metadata": {},
   "outputs": [],
   "source": [
    "plt.plot(history.history['acc'], label = \"Acc\")\n",
    "plt.plot(history.history['val_acc'], label = \"Val Acc\")\n",
    "plt.legend()\n",
    "plt.show()"
   ]
  },
  {
   "cell_type": "markdown",
   "metadata": {},
   "source": [
    "### Loss grafen kan fortelle oss om modellen lærer noe, og om enkelte parametre må endres for mer optimal trening"
   ]
  },
  {
   "cell_type": "code",
   "execution_count": null,
   "metadata": {
    "id": "XX7MCH5tPmpi",
    "outputId": "22e22f69-c6d0-46e1-eadd-b5297b255803"
   },
   "outputs": [],
   "source": [
    "plt.plot(history.history['loss'], label = \"loss\")\n",
    "plt.plot(history.history['val_loss'], label = \"Val loss\")\n",
    "plt.legend()\n",
    "plt.show()"
   ]
  },
  {
   "cell_type": "markdown",
   "metadata": {},
   "source": [
    "### Vi prøver igjen å la modellen gjette på 10 dyrebilder den ikke har sett i treningssettet"
   ]
  },
  {
   "cell_type": "code",
   "execution_count": null,
   "metadata": {},
   "outputs": [],
   "source": [
    "image_dir = \"raw-img\"\n",
    "sub_dirs = os.listdir(image_dir)\n",
    "image_paths = []\n",
    "complete_paths = []\n",
    "for sub_dir in sub_dirs:\n",
    "    image_path = os.listdir(f\"{image_dir}/{sub_dir}\")[0]\n",
    "    complete_paths.append(f\"{image_dir}/{sub_dir}/{image_path}\")\n",
    "\n",
    "plt.figure(figsize = (16,16))\n",
    "for i in range(0,10):\n",
    "    image=load_img(complete_paths[i],target_size=(img_size,img_size))\n",
    "    prediction = predict_image(image)\n",
    "    plt.subplot(5,5,i+1)    # the number of images in the grid is 5*5 (25)\n",
    "    plt.title(prediction)\n",
    "    plt.imshow(image)\n",
    "plt.axis(\"off\")\n",
    "plt.show()"
   ]
  },
  {
   "cell_type": "markdown",
   "metadata": {},
   "source": [
    "### For å øke nøyaktigheten ytterligere kan vi la den trene enda flere ganger"
   ]
  },
  {
   "cell_type": "code",
   "execution_count": null,
   "metadata": {
    "scrolled": true,
    "tags": []
   },
   "outputs": [],
   "source": [
    "history = model.fit(\n",
    "     datagen.flow(X_train, y_train, batch_size=256), \n",
    "    validation_data = (X_valid, y_valid),\n",
    "    epochs=100, \n",
    "    initial_epoch = 25\n",
    ")"
   ]
  },
  {
   "cell_type": "code",
   "execution_count": null,
   "metadata": {},
   "outputs": [],
   "source": [
    "plt.plot(history.history['acc'], label = \"Acc\")\n",
    "plt.plot(history.history['val_acc'], label = \"Val Acc\")\n",
    "plt.legend()\n",
    "plt.show()"
   ]
  },
  {
   "cell_type": "code",
   "execution_count": null,
   "metadata": {},
   "outputs": [],
   "source": [
    "plt.plot(history.history['loss'],  label = \"Loss\")\n",
    "plt.plot(history.history['val_loss'],  label = \"Val loss\")\n",
    "plt.legend()\n",
    "plt.show()"
   ]
  },
  {
   "cell_type": "code",
   "execution_count": null,
   "metadata": {},
   "outputs": [],
   "source": [
    "image_dir = \"raw-img\"\n",
    "sub_dirs = os.listdir(image_dir)\n",
    "image_paths = []\n",
    "complete_paths = []\n",
    "for sub_dir in sub_dirs:\n",
    "    image_path = os.listdir(f\"{image_dir}/{sub_dir}\")[0]\n",
    "    complete_paths.append(f\"{image_dir}/{sub_dir}/{image_path}\")\n",
    "\n",
    "plt.figure(figsize = (16,16))\n",
    "for i in range(0,10):\n",
    "    image=load_img(complete_paths[i],target_size=(img_size,img_size))\n",
    "    prediction = predict_image(image)\n",
    "    plt.subplot(5,5,i+1)    # the number of images in the grid is 5*5 (25)\n",
    "    plt.title(prediction)\n",
    "    plt.imshow(image)\n",
    "plt.axis(\"off\")\n",
    "plt.show()"
   ]
  },
  {
   "cell_type": "code",
   "execution_count": null,
   "metadata": {},
   "outputs": [],
   "source": []
  }
 ],
 "metadata": {
  "kernelspec": {
   "display_name": "Python 3 (ipykernel)",
   "language": "python",
   "name": "python3"
  },
  "language_info": {
   "codemirror_mode": {
    "name": "ipython",
    "version": 3
   },
   "file_extension": ".py",
   "mimetype": "text/x-python",
   "name": "python",
   "nbconvert_exporter": "python",
   "pygments_lexer": "ipython3",
   "version": "3.7.12"
  }
 },
 "nbformat": 4,
 "nbformat_minor": 4
}
