{
 "cells": [
  {
   "cell_type": "markdown",
   "metadata": {
    "id": "NE6dMOfWq9BA"
   },
   "source": [
    "# Maskin Læring: Klassifisering av dyr"
   ]
  },
  {
   "cell_type": "markdown",
   "metadata": {
    "id": "xMCo8oDYrBhV"
   },
   "source": [
    "## Trening av vårt første CNN!\n",
    "![l](https://www.managers.org.uk/wp-content/uploads/2020/03/BrainTraining.jpg)  \n",
    "I denne notebooken kommer vi til å gjøre et par ting: \n",
    "1. Skrive inn studentnummeret vårt\n",
    "2. Generere et nevralt nettverk(tenk en hjerne) med dette studentnummeret. \n",
    "3. Trene dette nettverket"
   ]
  },
  {
   "cell_type": "markdown",
   "metadata": {
    "id": "RrZKFkZksOKX"
   },
   "source": [
    "Først så setter vi inn student nummeret vårt."
   ]
  },
  {
   "cell_type": "code",
   "execution_count": 1,
   "metadata": {
    "colab": {
     "base_uri": "https://localhost:8080/"
    },
    "id": "wNKc_6gwpl4j",
    "outputId": "0f3c2fd0-f4fd-4eb6-d1fb-9e953fb361d3"
   },
   "outputs": [],
   "source": [
    "import numpy as np\n",
    "import pandas as pd\n",
    "import os\n",
    "\n",
    "import matplotlib.pyplot as plt\n",
    "import tensorflow as tf\n",
    "import random\n",
    "\n",
    "from tensorflow.keras.utils import to_categorical\n",
    "from tensorflow.keras.preprocessing.image import load_img, img_to_array\n",
    "from tensorflow.python.keras.preprocessing.image import ImageDataGenerator\n",
    "\n",
    "from sklearn.metrics import classification_report, log_loss, accuracy_score\n",
    "from sklearn.model_selection import train_test_split\n",
    "from tqdm.auto import tqdm\n",
    "os.environ[\"CUDA_VISIBLE_DEVICES\"]=\"1\"\n",
    "kaggle_user= \"uzaaft\"\n",
    "kaggle_api = \"eef66e4e79f6db8c868a369edc57500c\"\n",
    "os.environ[\"KAGGLE_USERNAME\"] = kaggle_user\n",
    "os.environ[\"KAGGLE_KEY\"] = kaggle_api"
   ]
  },
  {
   "cell_type": "code",
   "execution_count": null,
   "metadata": {},
   "outputs": [
    {
     "name": "stdout",
     "output_type": "stream",
     "text": [
      "replace raw-img/cane/OIF-e2bexWrojgtQnAPPcUfOWQ.jpeg? [y]es, [n]o, [A]ll, [N]one, [r]ename: "
     ]
    }
   ],
   "source": [
    "!rm -rf translate.py\n",
    "!unzip -q animals10.zip "
   ]
  },
  {
   "cell_type": "code",
   "execution_count": null,
   "metadata": {},
   "outputs": [],
   "source": [
    "base_dir = './raw-img'\n",
    "LABELS = os.listdir(base_dir)\n",
    "LABELS.sort()\n",
    "translate = {\"cane\": \"dog\", \"cavallo\": \"horse\", \"elefante\": \"elephant\",\n",
    "                 \"farfalla\": \"butterfly\", \"gallina\": \"chicken\", \"gatto\": \"cat\",\n",
    "                 \"mucca\": \"cow\", \"pecora\": \"sheep\", \"scoiattolo\": \"squirrel\",\n",
    "                 \"cane\": \"dog\", \"cavallo\": \"horse\", \"elephant\" : \"elefante\", \n",
    "                 \"butterfly\": \"farfalla\", \"chicken\": \"gallina\", \"cat\": \"gatto\",\n",
    "                 \"cow\": \"mucca\", \"spider\": \"ragno\", \"squirrel\": \"scoiattolo\"}\n",
    "LABELS_english = list(translate.values())\n",
    "base_dir + '/' + LABELS[0]\n",
    "dataset=[]\n",
    "testset=[]\n",
    "count=0\n",
    "\n",
    "for label in tqdm(LABELS):\n",
    "    i=0\n",
    "#     path = base_dir + '/' + label\n",
    "    path = os.path.join(base_dir, label)\n",
    "#     print(path)\n",
    "    for img in os.listdir(path):\n",
    "#         print(img)\n",
    "        image=load_img(os.path.join(path, img), grayscale=False, color_mode='rgb', target_size=(75,75))\n",
    "        image=img_to_array(image)\n",
    "        image=image/255.0\n",
    "        if i<1000:\n",
    "            dataset.append([image,count])\n",
    "            i+=1\n",
    "        else:\n",
    "            testset.append([image,count])\n",
    "    count=count+1\n",
    "\n",
    "X,y =zip(*dataset)\n",
    "test, test_labels=zip(*testset)\n",
    "y = to_categorical(y)\n",
    "y=np.array(y)\n",
    "X=np.array(X)\n",
    "print(\"Train Shape:{}\\nTrain Labels shape: {}\".format(X.shape,y.shape))\n",
    "X_train, X_valid, y_train, y_valid = train_test_split(X, y, test_size=0.2, random_state=99)\n",
    "\n",
    "datagen = ImageDataGenerator(\n",
    "    horizontal_flip=True,\n",
    "    vertical_flip=True,\n",
    "    rotation_range=20,\n",
    "    zoom_range=0.2,\n",
    "    width_shift_range=0.2,\n",
    "    height_shift_range=0.2,\n",
    "    shear_range=0.1,\n",
    "    fill_mode=\"nearest\"\n",
    ")"
   ]
  },
  {
   "cell_type": "code",
   "execution_count": null,
   "metadata": {},
   "outputs": [],
   "source": [
    "def predict_image(image):\n",
    "    image=img_to_array(image)/255 \n",
    "    prediction_image=np.array(image)\n",
    "    prediction_image= np.expand_dims(image, axis=0)\n",
    "    \n",
    "    pred = model.predict(prediction_image)\n",
    "    value = np.argmax(pred)\n",
    "    return f\"Pred: {LABELS_english[value]}\""
   ]
  },
  {
   "cell_type": "code",
   "execution_count": null,
   "metadata": {
    "colab": {
     "base_uri": "https://localhost:8080/"
    },
    "id": "1LXIXuD8Pmph",
    "outputId": "000566c1-65c7-41c1-db1d-6b47a0501944",
    "scrolled": true,
    "tags": []
   },
   "outputs": [],
   "source": [
    "model = tf.keras.models.Sequential()\n",
    "\n",
    "model.add(tf.keras.layers.Conv2D(16, (3, 3), activation='elu', input_shape=(75, 75, 3), padding= \"valid\"))\n",
    "model.add(tf.keras.layers.MaxPooling2D(3))\n",
    "\n",
    "model.add(tf.keras.layers.Conv2D(32, (3, 3), activation='elu', padding= \"valid\"))\n",
    "model.add(tf.keras.layers.MaxPooling2D(2))\n",
    "\n",
    "model.add(tf.keras.layers.BatchNormalization())\n",
    "\n",
    "model.add(tf.keras.layers.Conv2D(64, (3, 3), activation='elu', padding= \"valid\"))\n",
    "model.add(tf.keras.layers.MaxPooling2D(1))\n",
    "\n",
    "\n",
    "model.add(tf.keras.layers.Conv2D(64, (3, 3), activation='elu', padding= \"valid\"))\n",
    "model.add(tf.keras.layers.MaxPooling2D(1))\n",
    "\n",
    "model.add(tf.keras.layers.Flatten())\n",
    "\n",
    "model.add(tf.keras.layers.Dense(64, activation='elu'))\n",
    "model.add(tf.keras.layers.Dense(32, activation='elu'))\n",
    "model.add(tf.keras.layers.BatchNormalization())\n",
    "model.add(tf.keras.layers.Dropout(0.2))\n",
    "\n",
    "\n",
    "\n",
    "model.add(tf.keras.layers.Dense(10, activation='softmax'))\n",
    "model.summary()\n",
    "\n",
    "model.compile(loss='categorical_crossentropy',\n",
    "             optimizer=tf.keras.optimizers.Adam(learning_rate = 1e-5),\n",
    "             metrics=['acc'])"
   ]
  },
  {
   "cell_type": "markdown",
   "metadata": {
    "id": "dwtksNboPmpi"
   },
   "source": [
    "### I cellen ovenfor lager vi modellen. Vi prøver å gjette hvilket dyr det er på bildene med denne ulærte modellen"
   ]
  },
  {
   "cell_type": "code",
   "execution_count": null,
   "metadata": {},
   "outputs": [],
   "source": [
    "image_dir = \"raw-img\"\n",
    "sub_dirs = os.listdir(image_dir)\n",
    "image_paths = []\n",
    "complete_paths = []\n",
    "for sub_dir in sub_dirs:\n",
    "    image_path = os.listdir(f\"{image_dir}/{sub_dir}\")[0]\n",
    "    complete_paths.append(f\"{image_dir}/{sub_dir}/{image_path}\")\n",
    "\n",
    "plt.figure(figsize = (16,16))\n",
    "for i in range(0,10):\n",
    "    image=load_img(complete_paths[i],target_size=(75,75))\n",
    "    prediction = predict_image(image)\n",
    "    plt.subplot(5,5,i+1)    # the number of images in the grid is 5*5 (25)\n",
    "    plt.title(prediction)\n",
    "    plt.imshow(image)\n",
    "plt.axis(\"off\")\n",
    "plt.show()"
   ]
  },
  {
   "cell_type": "code",
   "execution_count": null,
   "metadata": {
    "colab": {
     "base_uri": "https://localhost:8080/"
    },
    "id": "1LXIXuD8Pmph",
    "outputId": "000566c1-65c7-41c1-db1d-6b47a0501944",
    "scrolled": true,
    "tags": []
   },
   "outputs": [],
   "source": [
    "history = model.fit(\n",
    "     datagen.flow(X_train, y_train, batch_size=128), \n",
    "    validation_data = (X_valid, y_valid),\n",
    "    epochs=25\n",
    ")"
   ]
  },
  {
   "cell_type": "markdown",
   "metadata": {},
   "source": [
    "### La oss se hvor bra modellen vår gjetter"
   ]
  },
  {
   "cell_type": "code",
   "execution_count": null,
   "metadata": {},
   "outputs": [],
   "source": [
    "plt.plot(history.history['acc'], label = \"Acc\")\n",
    "plt.plot(history.history['val_acc'], label = \"Val Acc\")"
   ]
  },
  {
   "cell_type": "code",
   "execution_count": null,
   "metadata": {
    "colab": {
     "base_uri": "https://localhost:8080/"
    },
    "id": "XX7MCH5tPmpi",
    "outputId": "22e22f69-c6d0-46e1-eadd-b5297b255803"
   },
   "outputs": [],
   "source": [
    "plt.plot(history.history['loss'], label = \"loss\")\n",
    "plt.plot(history.history['val_loss'], label = \"Val loss\")"
   ]
  },
  {
   "cell_type": "code",
   "execution_count": null,
   "metadata": {},
   "outputs": [],
   "source": [
    "image_dir = \"raw-img\"\n",
    "sub_dirs = os.listdir(image_dir)\n",
    "image_paths = []\n",
    "complete_paths = []\n",
    "for sub_dir in sub_dirs:\n",
    "    image_path = os.listdir(f\"{image_dir}/{sub_dir}\")[0]\n",
    "    complete_paths.append(f\"{image_dir}/{sub_dir}/{image_path}\")\n",
    "\n",
    "plt.figure(figsize = (16,16))\n",
    "for i in range(0,10):\n",
    "    image=load_img(complete_paths[i],target_size=(75,75))\n",
    "    prediction = predict_image(image)\n",
    "    plt.subplot(5,5,i+1)    # the number of images in the grid is 5*5 (25)\n",
    "    plt.title(prediction)\n",
    "    plt.imshow(image)\n",
    "plt.axis(\"off\")\n",
    "plt.show()"
   ]
  },
  {
   "cell_type": "code",
   "execution_count": null,
   "metadata": {
    "scrolled": true,
    "tags": []
   },
   "outputs": [],
   "source": [
    "history = model.fit(\n",
    "     datagen.flow(X_train, y_train, batch_size=128), \n",
    "    validation_data = (X_valid, y_valid),\n",
    "    epochs=100, \n",
    "    initial_epoch = 25\n",
    ")"
   ]
  },
  {
   "cell_type": "code",
   "execution_count": null,
   "metadata": {},
   "outputs": [],
   "source": [
    "plt.plot(history.history['acc'], label = \"Acc\")\n",
    "plt.plot(history.history['val_acc'], label = \"Val Acc\")"
   ]
  },
  {
   "cell_type": "code",
   "execution_count": null,
   "metadata": {},
   "outputs": [],
   "source": [
    "plt.plot(history.history['loss'],  label = \"Loss\")\n",
    "plt.plot(history.history['val_loss'],  label = \"Val loss\")"
   ]
  },
  {
   "cell_type": "code",
   "execution_count": null,
   "metadata": {},
   "outputs": [],
   "source": [
    "image=load_img(\"raw-img/elefante/OIP---LeldVL441fx5S66TGgVQAAAA.jpeg\",target_size=(75,75))\n",
    "predict_image(image)\n",
    "plt.imshow(image)\n",
    "plt.show()\n",
    "image=load_img(\"raw-img/gatto/1006.jpeg\",target_size=(75,75))\n",
    "predict_image(image)\n",
    "plt.imshow(image)\n",
    "plt.show()\n",
    "image=load_img(\"raw-img/farfalla/OIP--7K5JzW1ZEmrY2YRyVjFCQHaE7.jpeg\",target_size=(75,75))\n",
    "predict_image(image)\n",
    "plt.imshow(image)\n",
    "plt.show()"
   ]
  },
  {
   "cell_type": "code",
   "execution_count": null,
   "metadata": {
    "scrolled": true,
    "tags": []
   },
   "outputs": [],
   "source": [
    "history = model.fit(\n",
    "     datagen.flow(X_train, y_train, batch_size=128), \n",
    "    validation_data = (X_valid, y_valid),\n",
    "    epochs=1000, \n",
    "    initial_epoch = 500\n",
    ")"
   ]
  },
  {
   "cell_type": "code",
   "execution_count": null,
   "metadata": {},
   "outputs": [],
   "source": [
    "plt.plot(history.history['acc'], label = \"Acc\")\n",
    "plt.plot(history.history['val_acc'], label = \"Val Acc\")"
   ]
  },
  {
   "cell_type": "code",
   "execution_count": null,
   "metadata": {},
   "outputs": [],
   "source": [
    "plt.plot(history.history['loss'],  label = \"Loss\")\n",
    "plt.plot(history.history['val_loss'],  label = \"Val loss\")"
   ]
  },
  {
   "cell_type": "code",
   "execution_count": null,
   "metadata": {},
   "outputs": [],
   "source": [
    "image_dir = \"raw-img\"\n",
    "sub_dirs = os.listdir(image_dir)\n",
    "image_paths = []\n",
    "complete_paths = []\n",
    "for sub_dir in sub_dirs:\n",
    "    image_path = os.listdir(f\"{image_dir}/{sub_dir}\")[0]\n",
    "    complete_paths.append(f\"{image_dir}/{sub_dir}/{image_path}\")\n",
    "\n",
    "plt.figure(figsize = (16,16))\n",
    "for i in range(0,10):\n",
    "    image=load_img(complete_paths[i],target_size=(75,75))\n",
    "    prediction = predict_image(image)\n",
    "    plt.subplot(5,5,i+1)    # the number of images in the grid is 5*5 (25)\n",
    "    plt.title(prediction)\n",
    "    plt.imshow(image)\n",
    "plt.axis(\"off\")\n",
    "plt.show()"
   ]
  }
 ],
 "metadata": {
  "accelerator": "GPU",
  "colab": {
   "name": "Untitled0.ipynb",
   "provenance": []
  },
  "interpreter": {
   "hash": "71b3728857919266273d1a6ca92981efb124a2c86755e8d6acf4f6970fa73c3f"
  },
  "kernelspec": {
   "display_name": "Python 3 (ipykernel)",
   "language": "python",
   "name": "python3"
  },
  "language_info": {
   "codemirror_mode": {
    "name": "ipython",
    "version": 3
   },
   "file_extension": ".py",
   "mimetype": "text/x-python",
   "name": "python",
   "nbconvert_exporter": "python",
   "pygments_lexer": "ipython3",
   "version": "3.9.5"
  },
  "widgets": {
   "application/vnd.jupyter.widget-state+json": {
    "13fe194a688542ffaa6977dd2159a9c6": {
     "model_module": "@jupyter-widgets/base",
     "model_module_version": "1.2.0",
     "model_name": "LayoutModel",
     "state": {
      "_model_module": "@jupyter-widgets/base",
      "_model_module_version": "1.2.0",
      "_model_name": "LayoutModel",
      "_view_count": null,
      "_view_module": "@jupyter-widgets/base",
      "_view_module_version": "1.2.0",
      "_view_name": "LayoutView",
      "align_content": null,
      "align_items": null,
      "align_self": null,
      "border": null,
      "bottom": null,
      "display": null,
      "flex": null,
      "flex_flow": null,
      "grid_area": null,
      "grid_auto_columns": null,
      "grid_auto_flow": null,
      "grid_auto_rows": null,
      "grid_column": null,
      "grid_gap": null,
      "grid_row": null,
      "grid_template_areas": null,
      "grid_template_columns": null,
      "grid_template_rows": null,
      "height": null,
      "justify_content": null,
      "justify_items": null,
      "left": null,
      "margin": null,
      "max_height": null,
      "max_width": null,
      "min_height": null,
      "min_width": null,
      "object_fit": null,
      "object_position": null,
      "order": null,
      "overflow": null,
      "overflow_x": null,
      "overflow_y": null,
      "padding": null,
      "right": null,
      "top": null,
      "visibility": null,
      "width": null
     }
    },
    "3c439164ae2d46538c420e5e164f4bdc": {
     "model_module": "@jupyter-widgets/controls",
     "model_module_version": "1.5.0",
     "model_name": "DescriptionStyleModel",
     "state": {
      "_model_module": "@jupyter-widgets/controls",
      "_model_module_version": "1.5.0",
      "_model_name": "DescriptionStyleModel",
      "_view_count": null,
      "_view_module": "@jupyter-widgets/base",
      "_view_module_version": "1.2.0",
      "_view_name": "StyleView",
      "description_width": ""
     }
    },
    "3ee05a3eb0644bbeb705f8b3667f6afb": {
     "model_module": "@jupyter-widgets/controls",
     "model_module_version": "1.5.0",
     "model_name": "DescriptionStyleModel",
     "state": {
      "_model_module": "@jupyter-widgets/controls",
      "_model_module_version": "1.5.0",
      "_model_name": "DescriptionStyleModel",
      "_view_count": null,
      "_view_module": "@jupyter-widgets/base",
      "_view_module_version": "1.2.0",
      "_view_name": "StyleView",
      "description_width": ""
     }
    },
    "5babd882901e4893bf88d8c6c4466fc7": {
     "model_module": "@jupyter-widgets/controls",
     "model_module_version": "1.5.0",
     "model_name": "FloatProgressModel",
     "state": {
      "_dom_classes": [],
      "_model_module": "@jupyter-widgets/controls",
      "_model_module_version": "1.5.0",
      "_model_name": "FloatProgressModel",
      "_view_count": null,
      "_view_module": "@jupyter-widgets/controls",
      "_view_module_version": "1.5.0",
      "_view_name": "ProgressView",
      "bar_style": "success",
      "description": "",
      "description_tooltip": null,
      "layout": "IPY_MODEL_970b81cc1b5b4dff86026f528b270a23",
      "max": 5000,
      "min": 0,
      "orientation": "horizontal",
      "style": "IPY_MODEL_fe2727e40c9d4308a6cf4f3d7367a4dc",
      "value": 5000
     }
    },
    "8dede2b962584a88a95b16a2f72fd9c1": {
     "model_module": "@jupyter-widgets/controls",
     "model_module_version": "1.5.0",
     "model_name": "HBoxModel",
     "state": {
      "_dom_classes": [],
      "_model_module": "@jupyter-widgets/controls",
      "_model_module_version": "1.5.0",
      "_model_name": "HBoxModel",
      "_view_count": null,
      "_view_module": "@jupyter-widgets/controls",
      "_view_module_version": "1.5.0",
      "_view_name": "HBoxView",
      "box_style": "",
      "children": [
       "IPY_MODEL_d96ea9546f2b4499a476b1462429de27",
       "IPY_MODEL_5babd882901e4893bf88d8c6c4466fc7",
       "IPY_MODEL_9ea89376a6644675ae4bb1b7e48ab39d"
      ],
      "layout": "IPY_MODEL_b77baca20cfc4d2187eea38f4c846c30"
     }
    },
    "970b81cc1b5b4dff86026f528b270a23": {
     "model_module": "@jupyter-widgets/base",
     "model_module_version": "1.2.0",
     "model_name": "LayoutModel",
     "state": {
      "_model_module": "@jupyter-widgets/base",
      "_model_module_version": "1.2.0",
      "_model_name": "LayoutModel",
      "_view_count": null,
      "_view_module": "@jupyter-widgets/base",
      "_view_module_version": "1.2.0",
      "_view_name": "LayoutView",
      "align_content": null,
      "align_items": null,
      "align_self": null,
      "border": null,
      "bottom": null,
      "display": null,
      "flex": null,
      "flex_flow": null,
      "grid_area": null,
      "grid_auto_columns": null,
      "grid_auto_flow": null,
      "grid_auto_rows": null,
      "grid_column": null,
      "grid_gap": null,
      "grid_row": null,
      "grid_template_areas": null,
      "grid_template_columns": null,
      "grid_template_rows": null,
      "height": null,
      "justify_content": null,
      "justify_items": null,
      "left": null,
      "margin": null,
      "max_height": null,
      "max_width": null,
      "min_height": null,
      "min_width": null,
      "object_fit": null,
      "object_position": null,
      "order": null,
      "overflow": null,
      "overflow_x": null,
      "overflow_y": null,
      "padding": null,
      "right": null,
      "top": null,
      "visibility": null,
      "width": null
     }
    },
    "9ea89376a6644675ae4bb1b7e48ab39d": {
     "model_module": "@jupyter-widgets/controls",
     "model_module_version": "1.5.0",
     "model_name": "HTMLModel",
     "state": {
      "_dom_classes": [],
      "_model_module": "@jupyter-widgets/controls",
      "_model_module_version": "1.5.0",
      "_model_name": "HTMLModel",
      "_view_count": null,
      "_view_module": "@jupyter-widgets/controls",
      "_view_module_version": "1.5.0",
      "_view_name": "HTMLView",
      "description": "",
      "description_tooltip": null,
      "layout": "IPY_MODEL_13fe194a688542ffaa6977dd2159a9c6",
      "placeholder": "​",
      "style": "IPY_MODEL_3ee05a3eb0644bbeb705f8b3667f6afb",
      "value": " 5000/5000 [00:15&lt;00:00, 444.75it/s]"
     }
    },
    "b77baca20cfc4d2187eea38f4c846c30": {
     "model_module": "@jupyter-widgets/base",
     "model_module_version": "1.2.0",
     "model_name": "LayoutModel",
     "state": {
      "_model_module": "@jupyter-widgets/base",
      "_model_module_version": "1.2.0",
      "_model_name": "LayoutModel",
      "_view_count": null,
      "_view_module": "@jupyter-widgets/base",
      "_view_module_version": "1.2.0",
      "_view_name": "LayoutView",
      "align_content": null,
      "align_items": null,
      "align_self": null,
      "border": null,
      "bottom": null,
      "display": null,
      "flex": null,
      "flex_flow": null,
      "grid_area": null,
      "grid_auto_columns": null,
      "grid_auto_flow": null,
      "grid_auto_rows": null,
      "grid_column": null,
      "grid_gap": null,
      "grid_row": null,
      "grid_template_areas": null,
      "grid_template_columns": null,
      "grid_template_rows": null,
      "height": null,
      "justify_content": null,
      "justify_items": null,
      "left": null,
      "margin": null,
      "max_height": null,
      "max_width": null,
      "min_height": null,
      "min_width": null,
      "object_fit": null,
      "object_position": null,
      "order": null,
      "overflow": null,
      "overflow_x": null,
      "overflow_y": null,
      "padding": null,
      "right": null,
      "top": null,
      "visibility": null,
      "width": null
     }
    },
    "c83895be34ad4124a5c718d5850d88f4": {
     "model_module": "@jupyter-widgets/base",
     "model_module_version": "1.2.0",
     "model_name": "LayoutModel",
     "state": {
      "_model_module": "@jupyter-widgets/base",
      "_model_module_version": "1.2.0",
      "_model_name": "LayoutModel",
      "_view_count": null,
      "_view_module": "@jupyter-widgets/base",
      "_view_module_version": "1.2.0",
      "_view_name": "LayoutView",
      "align_content": null,
      "align_items": null,
      "align_self": null,
      "border": null,
      "bottom": null,
      "display": null,
      "flex": null,
      "flex_flow": null,
      "grid_area": null,
      "grid_auto_columns": null,
      "grid_auto_flow": null,
      "grid_auto_rows": null,
      "grid_column": null,
      "grid_gap": null,
      "grid_row": null,
      "grid_template_areas": null,
      "grid_template_columns": null,
      "grid_template_rows": null,
      "height": null,
      "justify_content": null,
      "justify_items": null,
      "left": null,
      "margin": null,
      "max_height": null,
      "max_width": null,
      "min_height": null,
      "min_width": null,
      "object_fit": null,
      "object_position": null,
      "order": null,
      "overflow": null,
      "overflow_x": null,
      "overflow_y": null,
      "padding": null,
      "right": null,
      "top": null,
      "visibility": null,
      "width": null
     }
    },
    "d96ea9546f2b4499a476b1462429de27": {
     "model_module": "@jupyter-widgets/controls",
     "model_module_version": "1.5.0",
     "model_name": "HTMLModel",
     "state": {
      "_dom_classes": [],
      "_model_module": "@jupyter-widgets/controls",
      "_model_module_version": "1.5.0",
      "_model_name": "HTMLModel",
      "_view_count": null,
      "_view_module": "@jupyter-widgets/controls",
      "_view_module_version": "1.5.0",
      "_view_name": "HTMLView",
      "description": "",
      "description_tooltip": null,
      "layout": "IPY_MODEL_c83895be34ad4124a5c718d5850d88f4",
      "placeholder": "​",
      "style": "IPY_MODEL_3c439164ae2d46538c420e5e164f4bdc",
      "value": "100%"
     }
    },
    "fe2727e40c9d4308a6cf4f3d7367a4dc": {
     "model_module": "@jupyter-widgets/controls",
     "model_module_version": "1.5.0",
     "model_name": "ProgressStyleModel",
     "state": {
      "_model_module": "@jupyter-widgets/controls",
      "_model_module_version": "1.5.0",
      "_model_name": "ProgressStyleModel",
      "_view_count": null,
      "_view_module": "@jupyter-widgets/base",
      "_view_module_version": "1.2.0",
      "_view_name": "StyleView",
      "bar_color": null,
      "description_width": ""
     }
    }
   }
  }
 },
 "nbformat": 4,
 "nbformat_minor": 4
}
